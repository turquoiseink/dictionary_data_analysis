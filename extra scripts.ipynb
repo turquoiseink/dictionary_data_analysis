{
 "cells": [
  {
   "cell_type": "code",
   "execution_count": null,
   "metadata": {},
   "outputs": [],
   "source": [
    "#this cleans the abbreviation use in the dictionary\n",
    "\n",
    "df = pd.read_csv('dictionary_RAE.csv')\n",
    "\n",
    "abbreviation_list=[]\n",
    "for abbr_def in df['Abreviations']:\n",
    "        for abbr in abbr_def[1:-1].split(', '):\n",
    "            abbreviation_list.append(abbr.replace('\\'',''))\n",
    "        \n",
    "abbreviation_list = list(dict.fromkeys(abbreviation_list))\n",
    "\n",
    "\n",
    "\n",
    "#Every line in abbreviations contains:\n",
    "#  |abbreviation|\n",
    "l=open('abbreviation_list.csv', 'w', encoding='UTF8')\n",
    "abbr_file = csv.writer(l)\n",
    "abbr_file.writerow(['Abbreviation', 'Type'])\n",
    "\n",
    "for abbr_clean in abbreviation_list:\n",
    "    abbr_file.writerow([abbr_clean])\n",
    "abbreviation_list[1]\n",
    "l.close()"
   ]
  }
 ],
 "metadata": {
  "kernelspec": {
   "display_name": "Python 3",
   "language": "python",
   "name": "python3"
  },
  "language_info": {
   "codemirror_mode": {
    "name": "ipython",
    "version": 3
   },
   "file_extension": ".py",
   "mimetype": "text/x-python",
   "name": "python",
   "nbconvert_exporter": "python",
   "pygments_lexer": "ipython3",
   "version": "3.7.4"
  }
 },
 "nbformat": 4,
 "nbformat_minor": 2
}
