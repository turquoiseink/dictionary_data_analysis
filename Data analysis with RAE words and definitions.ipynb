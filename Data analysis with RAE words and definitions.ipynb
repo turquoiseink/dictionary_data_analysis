{
 "cells": [
  {
   "cell_type": "markdown",
   "metadata": {},
   "source": [
    "\n",
    "\n",
    "<img src=\"https://dle.rae.es/app/doc/es/img/dle.jpg\"\n",
    "    style=\"width:100px; float: right; margin: 0 40px 40px 40px;\"></img>\n",
    "\n",
    "<hr style=\"margin-bottom: 40px;\">\n",
    "\n",
    "# Data analysis with RAE words and definitions\n",
    "<hr style=\"margin-bottom: 1px;\">"
   ]
  },
  {
   "cell_type": "markdown",
   "metadata": {},
   "source": [
    "## 1. Theoretical introduction\n",
    "####      1.1 Libraries and modules used\n",
    "\n",
    "* Pandas: Data analysis\n",
    "\n",
    "* Numpy: Efficient calculus\n",
    "\n",
    "* Matplotlib: Data representation\n",
    "\n",
    "* Requests and Urllib: Obtain the HTML from web-pages\n",
    "\n",
    "* BeautifulSoup: Parse the obtained HTML from web-pages\n",
    "\n",
    "* LXML (module): Process the HTML code"
   ]
  },
  {
   "cell_type": "markdown",
   "metadata": {},
   "source": [
    "## 2 How does the program work?\n",
    "#### 2.1. The words list\n",
    "\n",
    "#### 2.2. Obtaining the data from each word\n",
    "We use a function called word_data(word) that extracts all the data from the dictionary entry of the word.\n",
    "\n",
    "    Definitions URL: https://dle.rae.es/{'word'}\n",
    "#### 2.3. Type of data extracted from each word\n",
    "* Different entries\n",
    "* Ethimological origin\n",
    "* Gramatical word type\n",
    "* Definitions\n",
    "\n",
    "\n"
   ]
  },
  {
   "cell_type": "markdown",
   "metadata": {},
   "source": [
    "## 3 The program:"
   ]
  },
  {
   "cell_type": "code",
   "execution_count": 1,
   "metadata": {},
   "outputs": [],
   "source": [
    "# All the libraries\n",
    "\n",
    "from bs4 import Tag, NavigableString, BeautifulSoup\n",
    "import requests\n",
    "from urllib.request import Request, urlopen\n",
    "import csv"
   ]
  },
  {
   "cell_type": "code",
   "execution_count": 2,
   "metadata": {},
   "outputs": [],
   "source": [
    "# This downloads the HTML file from an URL\n",
    "\n",
    "UA=\"Mozilla/5.0 (Windows NT 6.1; Win64; x64; rv:47.0) Gecko/20100101 Firefox/47.0\"\n",
    "\n",
    "url=\"https://dle.rae.es/regular\"\n",
    "\n",
    "req = Request(url, headers={'User-Agent': UA})\n",
    "\n",
    "\n",
    "soup = BeautifulSoup(urlopen(req), 'html.parser')"
   ]
  },
  {
   "cell_type": "code",
   "execution_count": 3,
   "metadata": {},
   "outputs": [],
   "source": [
    "#The file where data is going to be stored:\n",
    "#Every line in dictionary contains:\n",
    "#  |word|article_i|def_j|[Abr1, Abr2, ...]|Definition|\n",
    "dictionary=[]\n",
    "#f=open('dictionary_RAE.csv', 'w', encoding='UTF8')\n",
    "#writer = csv.writer(f)\n",
    "#writer.writerow(['Word', 'Article Num.', 'Def. Num.', 'Abreviations', 'Definition'])\n",
    "\n",
    "#Every line in etymology contains:\n",
    "#  |word|article_i|Ethimological origin|\n",
    "g=open('etymology_RAE.csv', 'w', encoding='UTF8')\n",
    "writer = csv.writer(g)\n",
    "writer.writerow(['Word', 'Article Num.', 'Ethimological origin'])\n",
    "etymology=[]"
   ]
  },
  {
   "cell_type": "code",
   "execution_count": 4,
   "metadata": {
    "scrolled": false
   },
   "outputs": [],
   "source": [
    "#This part extracts all the desired data from the HTML downloaded\n",
    "\n",
    "word='regular'\n",
    "i=0\n",
    "for articles in soup.find_all('header',class_='f'): # loop between different articles\n",
    "    i=i+1\n",
    "    j=0\n",
    "    article=articles.parent \n",
    "    \n",
    "    etm_text=''\n",
    "    for child in article.find_all('p',class_='n2')[0]: #loop for every element in etymology\n",
    "        if child.name=='abbr': #prints the abreviations\n",
    "            etm_text = etm_text + str('{} '.format(child['title']))\n",
    "        else:\n",
    "            etm_text = etm_text + str(child.string)\n",
    "    #The ETYMOLOGY entry\n",
    "    etymology.append([word,'Article{}'.format(i),etm_text])\n",
    "    writer.writerow([word,'Article{}'.format(i),etm_text])\n",
    "    \n",
    "    for definition in article.find_all('p',class_=['j', 'j1'], recursive=False):  #loop between every definition\n",
    "        j=j+1\n",
    "        def_text='' #Definition\n",
    "        def_abr=[] #Clasificación gramatical\n",
    "        for child in definition: #loop for every element in definition\n",
    "            \n",
    "            if not str(child.string)=='None': #removes the examples\n",
    "                if isinstance(child, NavigableString) or child.has_attr(\"data-id\") or child.name=='a': # prints all '#text' and normal words\n",
    "                    def_text = def_text + str(child.string)\n",
    "                    \n",
    "                elif child.name=='abbr': #prints the abreviations\n",
    "                    def_abr.append(child['title'])\n",
    "        #The DICTIONARY entry\n",
    "        dictionary.append([word,'Article{}'.format(i),'Def{}'.format(j), def_abr, def_text.strip()])\n",
    "        #writer.writerow([word,'Article{}'.format(i),'Def{}'.format(j), def_abr, def_text.strip()])\n",
    "\n",
    "#f.close()\n",
    "g.close()"
   ]
  },
  {
   "cell_type": "markdown",
   "metadata": {},
   "source": [
    "## 4 Data analysis"
   ]
  },
  {
   "cell_type": "code",
   "execution_count": 6,
   "metadata": {},
   "outputs": [],
   "source": [
    "# All the libraries\n",
    "\n",
    "import numpy as np\n",
    "import pandas as pd"
   ]
  },
  {
   "cell_type": "code",
   "execution_count": 10,
   "metadata": {},
   "outputs": [],
   "source": [
    "df = pd.read_csv('etymology_RAE.csv')"
   ]
  },
  {
   "cell_type": "code",
   "execution_count": 11,
   "metadata": {},
   "outputs": [
    {
     "data": {
      "text/html": [
       "<div>\n",
       "<style scoped>\n",
       "    .dataframe tbody tr th:only-of-type {\n",
       "        vertical-align: middle;\n",
       "    }\n",
       "\n",
       "    .dataframe tbody tr th {\n",
       "        vertical-align: top;\n",
       "    }\n",
       "\n",
       "    .dataframe thead th {\n",
       "        text-align: right;\n",
       "    }\n",
       "</style>\n",
       "<table border=\"1\" class=\"dataframe\">\n",
       "  <thead>\n",
       "    <tr style=\"text-align: right;\">\n",
       "      <th></th>\n",
       "      <th>Word</th>\n",
       "      <th>Article Num.</th>\n",
       "      <th>Ethimological origin</th>\n",
       "    </tr>\n",
       "  </thead>\n",
       "  <tbody>\n",
       "    <tr>\n",
       "      <td>0</td>\n",
       "      <td>regular</td>\n",
       "      <td>Article1</td>\n",
       "      <td>Del latín  tardío regulāre 'determinar las reg...</td>\n",
       "    </tr>\n",
       "    <tr>\n",
       "      <td>1</td>\n",
       "      <td>regular</td>\n",
       "      <td>Article2</td>\n",
       "      <td>Del latín  regulāris.</td>\n",
       "    </tr>\n",
       "  </tbody>\n",
       "</table>\n",
       "</div>"
      ],
      "text/plain": [
       "      Word Article Num.                               Ethimological origin\n",
       "0  regular     Article1  Del latín  tardío regulāre 'determinar las reg...\n",
       "1  regular     Article2                              Del latín  regulāris."
      ]
     },
     "execution_count": 11,
     "metadata": {},
     "output_type": "execute_result"
    }
   ],
   "source": []
  },
  {
   "cell_type": "code",
   "execution_count": null,
   "metadata": {},
   "outputs": [],
   "source": []
  }
 ],
 "metadata": {
  "kernelspec": {
   "display_name": "Python 3",
   "language": "python",
   "name": "python3"
  },
  "language_info": {
   "codemirror_mode": {
    "name": "ipython",
    "version": 3
   },
   "file_extension": ".py",
   "mimetype": "text/x-python",
   "name": "python",
   "nbconvert_exporter": "python",
   "pygments_lexer": "ipython3",
   "version": "3.7.4"
  }
 },
 "nbformat": 4,
 "nbformat_minor": 2
}
